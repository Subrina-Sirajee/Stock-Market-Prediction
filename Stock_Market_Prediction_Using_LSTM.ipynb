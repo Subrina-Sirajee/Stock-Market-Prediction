{
  "cells": [
    {
      "cell_type": "code",
      "execution_count": 1,
      "metadata": {
        "colab": {
          "base_uri": "https://localhost:8080/"
        },
        "id": "8UoONmzupMG6",
        "outputId": "dd6aba84-13d5-474f-ae6a-8a82613d20a5"
      },
      "outputs": [
        {
          "output_type": "stream",
          "name": "stderr",
          "text": [
            "/usr/local/lib/python3.10/dist-packages/yfinance/base.py:48: FutureWarning: The default dtype for empty Series will be 'object' instead of 'float64' in a future version. Specify a dtype explicitly to silence this warning.\n",
            "  _empty_series = pd.Series()\n",
            "[*********************100%%**********************]  1 of 1 completed\n",
            "[*********************100%%**********************]  1 of 1 completed\n",
            "[*********************100%%**********************]  1 of 1 completed\n",
            "[*********************100%%**********************]  1 of 1 completed\n",
            "[*********************100%%**********************]  1 of 1 completed\n",
            "[*********************100%%**********************]  1 of 1 completed\n",
            "[*********************100%%**********************]  1 of 1 completed\n",
            "[*********************100%%**********************]  1 of 1 completed\n",
            "[*********************100%%**********************]  1 of 1 completed\n",
            "[*********************100%%**********************]  1 of 1 completed\n",
            "[*********************100%%**********************]  1 of 1 completed\n",
            "[*********************100%%**********************]  1 of 1 completed\n",
            "[*********************100%%**********************]  1 of 1 completed\n",
            "[*********************100%%**********************]  1 of 1 completed\n",
            "[*********************100%%**********************]  1 of 1 completed\n",
            "[*********************100%%**********************]  1 of 1 completed\n",
            "[*********************100%%**********************]  1 of 1 completed\n",
            "[*********************100%%**********************]  1 of 1 completed\n",
            "[*********************100%%**********************]  1 of 1 completed\n",
            "[*********************100%%**********************]  1 of 1 completed\n",
            "[*********************100%%**********************]  1 of 1 completed\n",
            "[*********************100%%**********************]  1 of 1 completed\n",
            "[*********************100%%**********************]  1 of 1 completed\n",
            "[*********************100%%**********************]  1 of 1 completed\n",
            "[*********************100%%**********************]  1 of 1 completed\n",
            "[*********************100%%**********************]  1 of 1 completed\n",
            "[*********************100%%**********************]  1 of 1 completed\n",
            "[*********************100%%**********************]  1 of 1 completed\n",
            "[*********************100%%**********************]  1 of 1 completed\n",
            "[*********************100%%**********************]  1 of 1 completed\n",
            "[*********************100%%**********************]  1 of 1 completed\n",
            "[*********************100%%**********************]  1 of 1 completed\n",
            "[*********************100%%**********************]  1 of 1 completed\n",
            "[*********************100%%**********************]  1 of 1 completed\n",
            "[*********************100%%**********************]  1 of 1 completed\n",
            "[*********************100%%**********************]  1 of 1 completed\n",
            "[*********************100%%**********************]  1 of 1 completed\n",
            "[*********************100%%**********************]  1 of 1 completed\n",
            "[*********************100%%**********************]  1 of 1 completed\n",
            "[*********************100%%**********************]  1 of 1 completed\n",
            "[*********************100%%**********************]  1 of 1 completed\n",
            "[*********************100%%**********************]  1 of 1 completed\n",
            "[*********************100%%**********************]  1 of 1 completed\n",
            "[*********************100%%**********************]  1 of 1 completed\n",
            "[*********************100%%**********************]  1 of 1 completed\n",
            "[*********************100%%**********************]  1 of 1 completed\n",
            "[*********************100%%**********************]  1 of 1 completed\n",
            "[*********************100%%**********************]  1 of 1 completed\n",
            "[*********************100%%**********************]  1 of 1 completed\n",
            "[*********************100%%**********************]  1 of 1 completed\n"
          ]
        }
      ],
      "source": [
        "import datetime\n",
        "import numpy as np\n",
        "import pandas as pd\n",
        "import yfinance as yf\n",
        "import joblib\n",
        "\n",
        "# Set the start and end date for data retrieval\n",
        "start_date = datetime.datetime(2018, 1, 1)\n",
        "end_date = datetime.datetime(2022, 12, 31)\n",
        "\n",
        "stocks = [\n",
        "    \"ABBV\", \"ACN\", \"AMD\", \"AMZN\", \"AVGO\", \"AXP\", \"BAC\", \"BK\", \"BLK\", \"BMY\", \"C\", \"CL\", \"COF\",\n",
        "    \"COP\", \"CVS\", \"CVX\", \"DIS\", \"NKE\", \"DUK\", \"F\", \"FDX\", \"GD\", \"GILD\", \"GM\", \"GOOG\", \"GOOGL\",\n",
        "    \"INTC\", \"JNJ\", \"KHC\", \"LLY\", \"LMT\", \"META\", \"MRK\", \"MS\", \"MSFT\", \"NFLX\", \"NVDA\", \"ORCL\",\n",
        "    \"PG\", \"QCOM\", \"SCHW\", \"T\", \"TGT\", \"TMUS\", \"TSLA\", \"UNH\", \"USB\", \"VZ\", \"WFC\", \"XOM\"\n",
        "]\n",
        "\n",
        "# Create an empty DataFrame to store the stock closing prices\n",
        "df = pd.DataFrame()\n",
        "\n",
        "# Iterate through each stock ticker and retrieve its closing prices\n",
        "for stock in stocks:\n",
        "    # Download historical stock data using yfinance API and extract the 'Close' prices\n",
        "    stock_data = yf.download(stock, start=start_date, end=end_date)['Close']\n",
        "    # Add the stock's closing prices as a column to the DataFrame with the stock ticker as the column name\n",
        "    df[stock] = stock_data\n"
      ]
    },
    {
      "cell_type": "code",
      "execution_count": 2,
      "metadata": {
        "colab": {
          "base_uri": "https://localhost:8080/",
          "height": 373
        },
        "id": "rn4xY2vHpvR6",
        "outputId": "5cfe0057-8ed0-4a8f-b098-92c32c8d46ec"
      },
      "outputs": [
        {
          "output_type": "execute_result",
          "data": {
            "text/plain": [
              "                  ABBV         ACN    AMD       AMZN        AVGO         AXP  \\\n",
              "Date                                                                           \n",
              "2018-01-02   98.410004  153.839996  10.98  59.450500  267.010010   98.940002   \n",
              "2018-01-03   99.949997  154.550003  11.55  60.209999  269.929993   99.550003   \n",
              "2018-01-04   99.379997  156.380005  12.12  60.479500  270.019989  100.849998   \n",
              "2018-01-05  101.110001  157.669998  11.88  61.457001  271.619995  101.080002   \n",
              "2018-01-08   99.489998  158.929993  12.28  62.343498  272.269989  100.150002   \n",
              "\n",
              "                  BAC         BK         BLK        BMY  ...       SCHW  \\\n",
              "Date                                                     ...              \n",
              "2018-01-02  29.900000  53.820000  508.970001  61.310001  ...  51.439999   \n",
              "2018-01-03  29.799999  54.150002  514.340027  61.360001  ...  51.520000   \n",
              "2018-01-04  30.190001  54.689999  521.130005  61.750000  ...  51.810001   \n",
              "2018-01-05  30.330000  54.830002  525.570007  61.889999  ...  52.009998   \n",
              "2018-01-08  30.120001  55.060001  529.489990  61.910000  ...  52.240002   \n",
              "\n",
              "                    T        TGT       TMUS       TSLA         UNH        USB  \\\n",
              "Date                                                                            \n",
              "2018-01-02  29.108761  67.629997  64.040001  21.368668  221.160004  54.029999   \n",
              "2018-01-03  28.436556  67.169998  63.610001  21.150000  223.479996  54.560001   \n",
              "2018-01-04  28.700907  65.849998  63.000000  20.974667  224.449997  54.980000   \n",
              "2018-01-05  28.806646  66.550003  64.599998  21.105333  228.729996  55.320000   \n",
              "2018-01-08  28.889729  67.180000  65.099998  22.427334  224.759995  55.400002   \n",
              "\n",
              "                   VZ        WFC        XOM  \n",
              "Date                                         \n",
              "2018-01-02  53.529999  61.090000  85.029999  \n",
              "2018-01-03  52.430000  61.560001  86.699997  \n",
              "2018-01-04  52.599998  62.330002  86.820000  \n",
              "2018-01-05  52.480000  62.750000  86.750000  \n",
              "2018-01-08  52.389999  62.040001  87.139999  \n",
              "\n",
              "[5 rows x 50 columns]"
            ],
            "text/html": [
              "\n",
              "  <div id=\"df-a5662bb3-7c33-4a64-ab9d-4348909b5d9c\" class=\"colab-df-container\">\n",
              "    <div>\n",
              "<style scoped>\n",
              "    .dataframe tbody tr th:only-of-type {\n",
              "        vertical-align: middle;\n",
              "    }\n",
              "\n",
              "    .dataframe tbody tr th {\n",
              "        vertical-align: top;\n",
              "    }\n",
              "\n",
              "    .dataframe thead th {\n",
              "        text-align: right;\n",
              "    }\n",
              "</style>\n",
              "<table border=\"1\" class=\"dataframe\">\n",
              "  <thead>\n",
              "    <tr style=\"text-align: right;\">\n",
              "      <th></th>\n",
              "      <th>ABBV</th>\n",
              "      <th>ACN</th>\n",
              "      <th>AMD</th>\n",
              "      <th>AMZN</th>\n",
              "      <th>AVGO</th>\n",
              "      <th>AXP</th>\n",
              "      <th>BAC</th>\n",
              "      <th>BK</th>\n",
              "      <th>BLK</th>\n",
              "      <th>BMY</th>\n",
              "      <th>...</th>\n",
              "      <th>SCHW</th>\n",
              "      <th>T</th>\n",
              "      <th>TGT</th>\n",
              "      <th>TMUS</th>\n",
              "      <th>TSLA</th>\n",
              "      <th>UNH</th>\n",
              "      <th>USB</th>\n",
              "      <th>VZ</th>\n",
              "      <th>WFC</th>\n",
              "      <th>XOM</th>\n",
              "    </tr>\n",
              "    <tr>\n",
              "      <th>Date</th>\n",
              "      <th></th>\n",
              "      <th></th>\n",
              "      <th></th>\n",
              "      <th></th>\n",
              "      <th></th>\n",
              "      <th></th>\n",
              "      <th></th>\n",
              "      <th></th>\n",
              "      <th></th>\n",
              "      <th></th>\n",
              "      <th></th>\n",
              "      <th></th>\n",
              "      <th></th>\n",
              "      <th></th>\n",
              "      <th></th>\n",
              "      <th></th>\n",
              "      <th></th>\n",
              "      <th></th>\n",
              "      <th></th>\n",
              "      <th></th>\n",
              "      <th></th>\n",
              "    </tr>\n",
              "  </thead>\n",
              "  <tbody>\n",
              "    <tr>\n",
              "      <th>2018-01-02</th>\n",
              "      <td>98.410004</td>\n",
              "      <td>153.839996</td>\n",
              "      <td>10.98</td>\n",
              "      <td>59.450500</td>\n",
              "      <td>267.010010</td>\n",
              "      <td>98.940002</td>\n",
              "      <td>29.900000</td>\n",
              "      <td>53.820000</td>\n",
              "      <td>508.970001</td>\n",
              "      <td>61.310001</td>\n",
              "      <td>...</td>\n",
              "      <td>51.439999</td>\n",
              "      <td>29.108761</td>\n",
              "      <td>67.629997</td>\n",
              "      <td>64.040001</td>\n",
              "      <td>21.368668</td>\n",
              "      <td>221.160004</td>\n",
              "      <td>54.029999</td>\n",
              "      <td>53.529999</td>\n",
              "      <td>61.090000</td>\n",
              "      <td>85.029999</td>\n",
              "    </tr>\n",
              "    <tr>\n",
              "      <th>2018-01-03</th>\n",
              "      <td>99.949997</td>\n",
              "      <td>154.550003</td>\n",
              "      <td>11.55</td>\n",
              "      <td>60.209999</td>\n",
              "      <td>269.929993</td>\n",
              "      <td>99.550003</td>\n",
              "      <td>29.799999</td>\n",
              "      <td>54.150002</td>\n",
              "      <td>514.340027</td>\n",
              "      <td>61.360001</td>\n",
              "      <td>...</td>\n",
              "      <td>51.520000</td>\n",
              "      <td>28.436556</td>\n",
              "      <td>67.169998</td>\n",
              "      <td>63.610001</td>\n",
              "      <td>21.150000</td>\n",
              "      <td>223.479996</td>\n",
              "      <td>54.560001</td>\n",
              "      <td>52.430000</td>\n",
              "      <td>61.560001</td>\n",
              "      <td>86.699997</td>\n",
              "    </tr>\n",
              "    <tr>\n",
              "      <th>2018-01-04</th>\n",
              "      <td>99.379997</td>\n",
              "      <td>156.380005</td>\n",
              "      <td>12.12</td>\n",
              "      <td>60.479500</td>\n",
              "      <td>270.019989</td>\n",
              "      <td>100.849998</td>\n",
              "      <td>30.190001</td>\n",
              "      <td>54.689999</td>\n",
              "      <td>521.130005</td>\n",
              "      <td>61.750000</td>\n",
              "      <td>...</td>\n",
              "      <td>51.810001</td>\n",
              "      <td>28.700907</td>\n",
              "      <td>65.849998</td>\n",
              "      <td>63.000000</td>\n",
              "      <td>20.974667</td>\n",
              "      <td>224.449997</td>\n",
              "      <td>54.980000</td>\n",
              "      <td>52.599998</td>\n",
              "      <td>62.330002</td>\n",
              "      <td>86.820000</td>\n",
              "    </tr>\n",
              "    <tr>\n",
              "      <th>2018-01-05</th>\n",
              "      <td>101.110001</td>\n",
              "      <td>157.669998</td>\n",
              "      <td>11.88</td>\n",
              "      <td>61.457001</td>\n",
              "      <td>271.619995</td>\n",
              "      <td>101.080002</td>\n",
              "      <td>30.330000</td>\n",
              "      <td>54.830002</td>\n",
              "      <td>525.570007</td>\n",
              "      <td>61.889999</td>\n",
              "      <td>...</td>\n",
              "      <td>52.009998</td>\n",
              "      <td>28.806646</td>\n",
              "      <td>66.550003</td>\n",
              "      <td>64.599998</td>\n",
              "      <td>21.105333</td>\n",
              "      <td>228.729996</td>\n",
              "      <td>55.320000</td>\n",
              "      <td>52.480000</td>\n",
              "      <td>62.750000</td>\n",
              "      <td>86.750000</td>\n",
              "    </tr>\n",
              "    <tr>\n",
              "      <th>2018-01-08</th>\n",
              "      <td>99.489998</td>\n",
              "      <td>158.929993</td>\n",
              "      <td>12.28</td>\n",
              "      <td>62.343498</td>\n",
              "      <td>272.269989</td>\n",
              "      <td>100.150002</td>\n",
              "      <td>30.120001</td>\n",
              "      <td>55.060001</td>\n",
              "      <td>529.489990</td>\n",
              "      <td>61.910000</td>\n",
              "      <td>...</td>\n",
              "      <td>52.240002</td>\n",
              "      <td>28.889729</td>\n",
              "      <td>67.180000</td>\n",
              "      <td>65.099998</td>\n",
              "      <td>22.427334</td>\n",
              "      <td>224.759995</td>\n",
              "      <td>55.400002</td>\n",
              "      <td>52.389999</td>\n",
              "      <td>62.040001</td>\n",
              "      <td>87.139999</td>\n",
              "    </tr>\n",
              "  </tbody>\n",
              "</table>\n",
              "<p>5 rows × 50 columns</p>\n",
              "</div>\n",
              "    <div class=\"colab-df-buttons\">\n",
              "\n",
              "  <div class=\"colab-df-container\">\n",
              "    <button class=\"colab-df-convert\" onclick=\"convertToInteractive('df-a5662bb3-7c33-4a64-ab9d-4348909b5d9c')\"\n",
              "            title=\"Convert this dataframe to an interactive table.\"\n",
              "            style=\"display:none;\">\n",
              "\n",
              "  <svg xmlns=\"http://www.w3.org/2000/svg\" height=\"24px\" viewBox=\"0 -960 960 960\">\n",
              "    <path d=\"M120-120v-720h720v720H120Zm60-500h600v-160H180v160Zm220 220h160v-160H400v160Zm0 220h160v-160H400v160ZM180-400h160v-160H180v160Zm440 0h160v-160H620v160ZM180-180h160v-160H180v160Zm440 0h160v-160H620v160Z\"/>\n",
              "  </svg>\n",
              "    </button>\n",
              "\n",
              "  <style>\n",
              "    .colab-df-container {\n",
              "      display:flex;\n",
              "      gap: 12px;\n",
              "    }\n",
              "\n",
              "    .colab-df-convert {\n",
              "      background-color: #E8F0FE;\n",
              "      border: none;\n",
              "      border-radius: 50%;\n",
              "      cursor: pointer;\n",
              "      display: none;\n",
              "      fill: #1967D2;\n",
              "      height: 32px;\n",
              "      padding: 0 0 0 0;\n",
              "      width: 32px;\n",
              "    }\n",
              "\n",
              "    .colab-df-convert:hover {\n",
              "      background-color: #E2EBFA;\n",
              "      box-shadow: 0px 1px 2px rgba(60, 64, 67, 0.3), 0px 1px 3px 1px rgba(60, 64, 67, 0.15);\n",
              "      fill: #174EA6;\n",
              "    }\n",
              "\n",
              "    .colab-df-buttons div {\n",
              "      margin-bottom: 4px;\n",
              "    }\n",
              "\n",
              "    [theme=dark] .colab-df-convert {\n",
              "      background-color: #3B4455;\n",
              "      fill: #D2E3FC;\n",
              "    }\n",
              "\n",
              "    [theme=dark] .colab-df-convert:hover {\n",
              "      background-color: #434B5C;\n",
              "      box-shadow: 0px 1px 3px 1px rgba(0, 0, 0, 0.15);\n",
              "      filter: drop-shadow(0px 1px 2px rgba(0, 0, 0, 0.3));\n",
              "      fill: #FFFFFF;\n",
              "    }\n",
              "  </style>\n",
              "\n",
              "    <script>\n",
              "      const buttonEl =\n",
              "        document.querySelector('#df-a5662bb3-7c33-4a64-ab9d-4348909b5d9c button.colab-df-convert');\n",
              "      buttonEl.style.display =\n",
              "        google.colab.kernel.accessAllowed ? 'block' : 'none';\n",
              "\n",
              "      async function convertToInteractive(key) {\n",
              "        const element = document.querySelector('#df-a5662bb3-7c33-4a64-ab9d-4348909b5d9c');\n",
              "        const dataTable =\n",
              "          await google.colab.kernel.invokeFunction('convertToInteractive',\n",
              "                                                    [key], {});\n",
              "        if (!dataTable) return;\n",
              "\n",
              "        const docLinkHtml = 'Like what you see? Visit the ' +\n",
              "          '<a target=\"_blank\" href=https://colab.research.google.com/notebooks/data_table.ipynb>data table notebook</a>'\n",
              "          + ' to learn more about interactive tables.';\n",
              "        element.innerHTML = '';\n",
              "        dataTable['output_type'] = 'display_data';\n",
              "        await google.colab.output.renderOutput(dataTable, element);\n",
              "        const docLink = document.createElement('div');\n",
              "        docLink.innerHTML = docLinkHtml;\n",
              "        element.appendChild(docLink);\n",
              "      }\n",
              "    </script>\n",
              "  </div>\n",
              "\n",
              "\n",
              "<div id=\"df-562cb85e-ce92-4362-b25a-dfa4553eb53c\">\n",
              "  <button class=\"colab-df-quickchart\" onclick=\"quickchart('df-562cb85e-ce92-4362-b25a-dfa4553eb53c')\"\n",
              "            title=\"Suggest charts\"\n",
              "            style=\"display:none;\">\n",
              "\n",
              "<svg xmlns=\"http://www.w3.org/2000/svg\" height=\"24px\"viewBox=\"0 0 24 24\"\n",
              "     width=\"24px\">\n",
              "    <g>\n",
              "        <path d=\"M19 3H5c-1.1 0-2 .9-2 2v14c0 1.1.9 2 2 2h14c1.1 0 2-.9 2-2V5c0-1.1-.9-2-2-2zM9 17H7v-7h2v7zm4 0h-2V7h2v10zm4 0h-2v-4h2v4z\"/>\n",
              "    </g>\n",
              "</svg>\n",
              "  </button>\n",
              "\n",
              "<style>\n",
              "  .colab-df-quickchart {\n",
              "      --bg-color: #E8F0FE;\n",
              "      --fill-color: #1967D2;\n",
              "      --hover-bg-color: #E2EBFA;\n",
              "      --hover-fill-color: #174EA6;\n",
              "      --disabled-fill-color: #AAA;\n",
              "      --disabled-bg-color: #DDD;\n",
              "  }\n",
              "\n",
              "  [theme=dark] .colab-df-quickchart {\n",
              "      --bg-color: #3B4455;\n",
              "      --fill-color: #D2E3FC;\n",
              "      --hover-bg-color: #434B5C;\n",
              "      --hover-fill-color: #FFFFFF;\n",
              "      --disabled-bg-color: #3B4455;\n",
              "      --disabled-fill-color: #666;\n",
              "  }\n",
              "\n",
              "  .colab-df-quickchart {\n",
              "    background-color: var(--bg-color);\n",
              "    border: none;\n",
              "    border-radius: 50%;\n",
              "    cursor: pointer;\n",
              "    display: none;\n",
              "    fill: var(--fill-color);\n",
              "    height: 32px;\n",
              "    padding: 0;\n",
              "    width: 32px;\n",
              "  }\n",
              "\n",
              "  .colab-df-quickchart:hover {\n",
              "    background-color: var(--hover-bg-color);\n",
              "    box-shadow: 0 1px 2px rgba(60, 64, 67, 0.3), 0 1px 3px 1px rgba(60, 64, 67, 0.15);\n",
              "    fill: var(--button-hover-fill-color);\n",
              "  }\n",
              "\n",
              "  .colab-df-quickchart-complete:disabled,\n",
              "  .colab-df-quickchart-complete:disabled:hover {\n",
              "    background-color: var(--disabled-bg-color);\n",
              "    fill: var(--disabled-fill-color);\n",
              "    box-shadow: none;\n",
              "  }\n",
              "\n",
              "  .colab-df-spinner {\n",
              "    border: 2px solid var(--fill-color);\n",
              "    border-color: transparent;\n",
              "    border-bottom-color: var(--fill-color);\n",
              "    animation:\n",
              "      spin 1s steps(1) infinite;\n",
              "  }\n",
              "\n",
              "  @keyframes spin {\n",
              "    0% {\n",
              "      border-color: transparent;\n",
              "      border-bottom-color: var(--fill-color);\n",
              "      border-left-color: var(--fill-color);\n",
              "    }\n",
              "    20% {\n",
              "      border-color: transparent;\n",
              "      border-left-color: var(--fill-color);\n",
              "      border-top-color: var(--fill-color);\n",
              "    }\n",
              "    30% {\n",
              "      border-color: transparent;\n",
              "      border-left-color: var(--fill-color);\n",
              "      border-top-color: var(--fill-color);\n",
              "      border-right-color: var(--fill-color);\n",
              "    }\n",
              "    40% {\n",
              "      border-color: transparent;\n",
              "      border-right-color: var(--fill-color);\n",
              "      border-top-color: var(--fill-color);\n",
              "    }\n",
              "    60% {\n",
              "      border-color: transparent;\n",
              "      border-right-color: var(--fill-color);\n",
              "    }\n",
              "    80% {\n",
              "      border-color: transparent;\n",
              "      border-right-color: var(--fill-color);\n",
              "      border-bottom-color: var(--fill-color);\n",
              "    }\n",
              "    90% {\n",
              "      border-color: transparent;\n",
              "      border-bottom-color: var(--fill-color);\n",
              "    }\n",
              "  }\n",
              "</style>\n",
              "\n",
              "  <script>\n",
              "    async function quickchart(key) {\n",
              "      const quickchartButtonEl =\n",
              "        document.querySelector('#' + key + ' button');\n",
              "      quickchartButtonEl.disabled = true;  // To prevent multiple clicks.\n",
              "      quickchartButtonEl.classList.add('colab-df-spinner');\n",
              "      try {\n",
              "        const charts = await google.colab.kernel.invokeFunction(\n",
              "            'suggestCharts', [key], {});\n",
              "      } catch (error) {\n",
              "        console.error('Error during call to suggestCharts:', error);\n",
              "      }\n",
              "      quickchartButtonEl.classList.remove('colab-df-spinner');\n",
              "      quickchartButtonEl.classList.add('colab-df-quickchart-complete');\n",
              "    }\n",
              "    (() => {\n",
              "      let quickchartButtonEl =\n",
              "        document.querySelector('#df-562cb85e-ce92-4362-b25a-dfa4553eb53c button');\n",
              "      quickchartButtonEl.style.display =\n",
              "        google.colab.kernel.accessAllowed ? 'block' : 'none';\n",
              "    })();\n",
              "  </script>\n",
              "</div>\n",
              "    </div>\n",
              "  </div>\n"
            ]
          },
          "metadata": {},
          "execution_count": 2
        }
      ],
      "source": [
        "df.head()"
      ]
    },
    {
      "cell_type": "code",
      "execution_count": 3,
      "metadata": {
        "colab": {
          "base_uri": "https://localhost:8080/"
        },
        "id": "rq-mGP0YJdUR",
        "outputId": "f198eab5-af70-4cbb-8aed-17075ef1a692"
      },
      "outputs": [
        {
          "output_type": "stream",
          "name": "stdout",
          "text": [
            "ABBV     0\n",
            "ACN      0\n",
            "AMD      0\n",
            "AMZN     0\n",
            "AVGO     0\n",
            "AXP      0\n",
            "BAC      0\n",
            "BK       0\n",
            "BLK      0\n",
            "BMY      0\n",
            "C        0\n",
            "CL       0\n",
            "COF      0\n",
            "COP      0\n",
            "CVS      0\n",
            "CVX      0\n",
            "DIS      0\n",
            "NKE      0\n",
            "DUK      0\n",
            "F        0\n",
            "FDX      0\n",
            "GD       0\n",
            "GILD     0\n",
            "GM       0\n",
            "GOOG     0\n",
            "GOOGL    0\n",
            "INTC     0\n",
            "JNJ      0\n",
            "KHC      0\n",
            "LLY      0\n",
            "LMT      0\n",
            "META     0\n",
            "MRK      0\n",
            "MS       0\n",
            "MSFT     0\n",
            "NFLX     0\n",
            "NVDA     0\n",
            "ORCL     0\n",
            "PG       0\n",
            "QCOM     0\n",
            "SCHW     0\n",
            "T        0\n",
            "TGT      0\n",
            "TMUS     0\n",
            "TSLA     0\n",
            "UNH      0\n",
            "USB      0\n",
            "VZ       0\n",
            "WFC      0\n",
            "XOM      0\n",
            "dtype: int64\n"
          ]
        }
      ],
      "source": [
        "# Print the number of missing values for each column in the DataFrame\n",
        "print(df.isnull().sum())\n"
      ]
    },
    {
      "cell_type": "code",
      "execution_count": 4,
      "metadata": {
        "colab": {
          "base_uri": "https://localhost:8080/"
        },
        "id": "LRb8QhdEqCZo",
        "outputId": "002c4a08-0e39-4c0f-c8c1-9b4676dc0d4b"
      },
      "outputs": [
        {
          "output_type": "execute_result",
          "data": {
            "text/plain": [
              "Index(['ABBV', 'ACN', 'AMD', 'AMZN', 'AVGO', 'AXP', 'BAC', 'BK', 'BLK', 'BMY',\n",
              "       'C', 'CL', 'COF', 'COP', 'CVS', 'CVX', 'DIS', 'NKE', 'DUK', 'F', 'FDX',\n",
              "       'GD', 'GILD', 'GM', 'GOOG', 'GOOGL', 'INTC', 'JNJ', 'KHC', 'LLY', 'LMT',\n",
              "       'META', 'MRK', 'MS', 'MSFT', 'NFLX', 'NVDA', 'ORCL', 'PG', 'QCOM',\n",
              "       'SCHW', 'T', 'TGT', 'TMUS', 'TSLA', 'UNH', 'USB', 'VZ', 'WFC', 'XOM'],\n",
              "      dtype='object')"
            ]
          },
          "metadata": {},
          "execution_count": 4
        }
      ],
      "source": [
        "df.columns"
      ]
    },
    {
      "cell_type": "code",
      "execution_count": 5,
      "metadata": {
        "id": "FWkeU3RR2G-0"
      },
      "outputs": [],
      "source": [
        "from sklearn.preprocessing import MinMaxScaler\n",
        "\n",
        "# Initialize MinMaxScaler object with feature range (0, 1)\n",
        "scaler = MinMaxScaler(feature_range=(0, 1))\n",
        "\n",
        "# Reshape the DataFrame into a 1D array and apply MinMax scaling\n",
        "# MinMaxScaler expects input shape (n_samples, n_features), so reshape the 1D array to (n_samples, 1)\n",
        "df_reshaped = np.array(df).reshape(-1, 1)\n",
        "df_scaled = scaler.fit_transform(df_reshaped)"
      ]
    },
    {
      "cell_type": "code",
      "execution_count": 6,
      "metadata": {
        "colab": {
          "base_uri": "https://localhost:8080/"
        },
        "id": "5LIN3Vug2M7t",
        "outputId": "908d7405-c649-495d-90fd-396eaedd5991"
      },
      "outputs": [
        {
          "output_type": "stream",
          "name": "stdout",
          "text": [
            "[[0.09757308]\n",
            " [0.15486625]\n",
            " [0.00720428]\n",
            " ...\n",
            " [0.03657957]\n",
            " [0.0385331 ]\n",
            " [0.10986274]]\n"
          ]
        }
      ],
      "source": [
        "print(df_scaled)"
      ]
    },
    {
      "cell_type": "code",
      "execution_count": 7,
      "metadata": {
        "colab": {
          "base_uri": "https://localhost:8080/"
        },
        "id": "irTWtfik20C0",
        "outputId": "aa706c51-33a9-471b-b344-088dffa0e8d5"
      },
      "outputs": [
        {
          "output_type": "execute_result",
          "data": {
            "text/plain": [
              "(62950, 1)"
            ]
          },
          "metadata": {},
          "execution_count": 7
        }
      ],
      "source": [
        "df_scaled.shape"
      ]
    },
    {
      "cell_type": "code",
      "source": [
        "# Calculate the size of the training set based on the specified percentage\n",
        "training_size = int(len(df_scaled) * 0.65)\n",
        "\n",
        "# Calculate the size of the test set\n",
        "test_size = len(df_scaled) - training_size\n",
        "\n",
        "# Split the scaled data into training and test sets\n",
        "# Training data includes rows from index 0 to (training_size - 1), and all columns\n",
        "train_data = df_scaled[0:training_size, :]\n",
        "\n",
        "# Test data includes rows from index training_size to the end, and only the first column\n",
        "test_data = df_scaled[training_size:len(df_scaled), :1]\n"
      ],
      "metadata": {
        "id": "CSNLL4UcsphE"
      },
      "execution_count": 8,
      "outputs": []
    },
    {
      "cell_type": "code",
      "execution_count": 9,
      "metadata": {
        "colab": {
          "base_uri": "https://localhost:8080/"
        },
        "id": "9N1CvJZR2vuV",
        "outputId": "6c8c8c6c-e97a-48a5-90a4-6e55a9e0f371"
      },
      "outputs": [
        {
          "output_type": "execute_result",
          "data": {
            "text/plain": [
              "(40917, 22033)"
            ]
          },
          "metadata": {},
          "execution_count": 9
        }
      ],
      "source": [
        "training_size,test_size"
      ]
    },
    {
      "cell_type": "code",
      "execution_count": 10,
      "metadata": {
        "colab": {
          "base_uri": "https://localhost:8080/"
        },
        "id": "WFvRn2WG3BJd",
        "outputId": "48027325-2946-4e5b-bf3e-879669ee5771"
      },
      "outputs": [
        {
          "output_type": "execute_result",
          "data": {
            "text/plain": [
              "array([[0.09757308],\n",
              "       [0.15486625],\n",
              "       [0.00720428],\n",
              "       ...,\n",
              "       [0.07341754],\n",
              "       [0.10387812],\n",
              "       [0.19069128]])"
            ]
          },
          "metadata": {},
          "execution_count": 10
        }
      ],
      "source": [
        "train_data"
      ]
    },
    {
      "cell_type": "code",
      "source": [
        "import numpy\n",
        "\n",
        "def create_dataset(dataset, time_step=1):\n",
        "    \"\"\"\n",
        "    Converts an array of values into a dataset matrix.\n",
        "\n",
        "    Parameters:\n",
        "    dataset (array-like): Input array of values.\n",
        "    time_step (int): Time step to create sequences of input features and output labels. Default is 1.\n",
        "\n",
        "    Returns:\n",
        "    tuple: A tuple containing two arrays: dataX, the input features, and dataY, the corresponding output labels.\n",
        "    \"\"\"\n",
        "\n",
        "    dataX, dataY = [], []\n",
        "\n",
        "    # Iterate through the dataset to create sequences of input features and output labels\n",
        "    for i in range(len(dataset) - time_step - 1):\n",
        "        # Slice the dataset to create a sequence of input features with length equal to time_step\n",
        "        a = dataset[i:(i + time_step), 0]\n",
        "        # Append the sequence of input features to dataX\n",
        "        dataX.append(a)\n",
        "        # Append the corresponding output label to dataY\n",
        "        dataY.append(dataset[i + time_step, 0])\n",
        "\n",
        "    # Convert dataX and dataY to numpy arrays\n",
        "    return numpy.array(dataX), numpy.array(dataY)"
      ],
      "metadata": {
        "id": "a3Yw_LgStciS"
      },
      "execution_count": 11,
      "outputs": []
    },
    {
      "cell_type": "code",
      "execution_count": 12,
      "metadata": {
        "id": "372Nzklh3VPu"
      },
      "outputs": [],
      "source": [
        "# reshape into X=t,t+1,t+2,t+3 and Y=t+4\n",
        "time_step = 100\n",
        "X_train, y_train = create_dataset(train_data, time_step)\n",
        "X_test, ytest = create_dataset(test_data, time_step)"
      ]
    },
    {
      "cell_type": "code",
      "source": [
        "# Define the time step for creating sequences\n",
        "time_step = 100\n",
        "\n",
        "# Create sequences of input features and output labels for training data\n",
        "# X_train contains sequences of input features where each sequence has 'time_step' time steps\n",
        "# y_train contains the corresponding output labels\n",
        "X_train, y_train = create_dataset(train_data, time_step)\n",
        "\n",
        "# Create sequences of input features and output labels for test data\n",
        "# X_test contains sequences of input features where each sequence has 'time_step' time steps\n",
        "# y_test contains the corresponding output labels\n",
        "X_test, y_test = create_dataset(test_data, time_step)\n"
      ],
      "metadata": {
        "id": "VZwXR7bCty1-"
      },
      "execution_count": 13,
      "outputs": []
    },
    {
      "cell_type": "code",
      "execution_count": 14,
      "metadata": {
        "colab": {
          "base_uri": "https://localhost:8080/"
        },
        "id": "NclCces_3ake",
        "outputId": "09d53009-ad9a-4200-8bd0-e9ae9809aa58"
      },
      "outputs": [
        {
          "output_type": "stream",
          "name": "stdout",
          "text": [
            "(40816, 100)\n",
            "(40816,)\n"
          ]
        },
        {
          "output_type": "execute_result",
          "data": {
            "text/plain": [
              "(None, None)"
            ]
          },
          "metadata": {},
          "execution_count": 14
        }
      ],
      "source": [
        "print(X_train.shape), print(y_train.shape)"
      ]
    },
    {
      "cell_type": "code",
      "execution_count": 15,
      "metadata": {
        "colab": {
          "base_uri": "https://localhost:8080/"
        },
        "id": "5sNlsZA33mkP",
        "outputId": "e8b80785-9268-4d29-e3e8-dd79d8966331"
      },
      "outputs": [
        {
          "output_type": "stream",
          "name": "stdout",
          "text": [
            "(21932, 100)\n",
            "(21932,)\n"
          ]
        },
        {
          "output_type": "execute_result",
          "data": {
            "text/plain": [
              "(None, None)"
            ]
          },
          "metadata": {},
          "execution_count": 15
        }
      ],
      "source": [
        "print(X_test.shape), print(ytest.shape)"
      ]
    },
    {
      "cell_type": "code",
      "execution_count": 16,
      "metadata": {
        "id": "LwKYGtwD3qYe"
      },
      "outputs": [],
      "source": [
        "# reshape input to be [samples, time steps, features] which is required for LSTM\n",
        "X_train =X_train.reshape(X_train.shape[0],X_train.shape[1] , 1)\n",
        "X_test = X_test.reshape(X_test.shape[0],X_test.shape[1] , 1)"
      ]
    },
    {
      "cell_type": "code",
      "source": [
        "# Reshape the input data for LSTM model compatibility\n",
        "# The input shape for LSTM should be [samples, time steps, features]\n",
        "\n",
        "# Reshape training data\n",
        "X_train = X_train.reshape(X_train.shape[0], X_train.shape[1], 1)\n",
        "# X_train.shape[0] returns the number of samples\n",
        "# X_train.shape[1] returns the number of time steps\n",
        "# '1' indicates the number of features per time step (in this case, there's only one feature)\n",
        "\n",
        "# Reshape test data\n",
        "X_test = X_test.reshape(X_test.shape[0], X_test.shape[1], 1)\n",
        "# Similar reshaping as for training data"
      ],
      "metadata": {
        "id": "rWH9AzBquEXB"
      },
      "execution_count": 17,
      "outputs": []
    },
    {
      "cell_type": "code",
      "source": [
        "from tensorflow.keras.models import Sequential\n",
        "from tensorflow.keras.layers import LSTM, Dense\n",
        "from tensorflow.keras.callbacks import EarlyStopping\n",
        "from tensorflow.keras import regularizers\n",
        "\n",
        "# Define the model architecture\n",
        "model = Sequential()\n",
        "\n",
        "# Add LSTM layers with dropout and batch normalization\n",
        "# Input shape: (number of time steps, number of features)\n",
        "# LSTM with 50 units, return sequences to pass output to the next layer\n",
        "model.add(LSTM(50,return_sequences=True,input_shape=(100,1)))\n",
        "\n",
        "model.add(LSTM(50,return_sequences=True))  # Another  LSTM layer\n",
        "\n",
        "model.add(LSTM(50))  # Final LSTM layer without returning sequences\n",
        "\n",
        "# Add a Dense output layer to produce single output value\n",
        "model.add(Dense(1))\n",
        "\n",
        "# Compile the model with mean squared error loss and Adam optimizer\n",
        "model.compile(loss='mean_squared_error', optimizer='adam')\n",
        "\n",
        "# Add early stopping callback to prevent overfitting\n",
        "early_stopping = EarlyStopping(monitor='val_loss', patience=10, restore_best_weights=True)\n"
      ],
      "metadata": {
        "id": "oAOGk84puWaX"
      },
      "execution_count": 18,
      "outputs": []
    },
    {
      "cell_type": "code",
      "execution_count": 19,
      "metadata": {
        "colab": {
          "base_uri": "https://localhost:8080/"
        },
        "id": "IVyGRAg935jF",
        "outputId": "359de718-73d3-4083-ac46-fb9800c2a2a7"
      },
      "outputs": [
        {
          "output_type": "stream",
          "name": "stdout",
          "text": [
            "Model: \"sequential\"\n",
            "_________________________________________________________________\n",
            " Layer (type)                Output Shape              Param #   \n",
            "=================================================================\n",
            " lstm (LSTM)                 (None, 100, 50)           10400     \n",
            "                                                                 \n",
            " lstm_1 (LSTM)               (None, 100, 50)           20200     \n",
            "                                                                 \n",
            " lstm_2 (LSTM)               (None, 50)                20200     \n",
            "                                                                 \n",
            " dense (Dense)               (None, 1)                 51        \n",
            "                                                                 \n",
            "=================================================================\n",
            "Total params: 50851 (198.64 KB)\n",
            "Trainable params: 50851 (198.64 KB)\n",
            "Non-trainable params: 0 (0.00 Byte)\n",
            "_________________________________________________________________\n"
          ]
        }
      ],
      "source": [
        "# Display a summary of the model architecture\n",
        "model.summary()"
      ]
    },
    {
      "cell_type": "code",
      "source": [
        "# Fit the model to the training data\n",
        "# The model is trained for 100 epochs with a batch size of 512\n",
        "# Validation data is provided to evaluate the model's performance on unseen data after each epoch\n",
        "# The early stopping callback is used to prevent overfitting and restore the best weights\n",
        "model.fit(X_train, y_train, epochs=50, batch_size=512, validation_data=(X_test, y_test), callbacks=[early_stopping])"
      ],
      "metadata": {
        "id": "gsu8lsz4uz9H",
        "colab": {
          "base_uri": "https://localhost:8080/"
        },
        "outputId": "aea48846-79cc-4b18-c945-e565fbfddf58"
      },
      "execution_count": 20,
      "outputs": [
        {
          "output_type": "stream",
          "name": "stdout",
          "text": [
            "Epoch 1/50\n",
            "80/80 [==============================] - 81s 953ms/step - loss: 0.0118 - val_loss: 0.0257\n",
            "Epoch 2/50\n",
            "80/80 [==============================] - 80s 999ms/step - loss: 0.0113 - val_loss: 0.0252\n",
            "Epoch 3/50\n",
            "80/80 [==============================] - 75s 937ms/step - loss: 0.0108 - val_loss: 0.0262\n",
            "Epoch 4/50\n",
            "80/80 [==============================] - 75s 944ms/step - loss: 0.0108 - val_loss: 0.0248\n",
            "Epoch 5/50\n",
            "80/80 [==============================] - 80s 1s/step - loss: 0.0106 - val_loss: 0.0265\n",
            "Epoch 6/50\n",
            "80/80 [==============================] - 75s 935ms/step - loss: 0.0108 - val_loss: 0.0231\n",
            "Epoch 7/50\n",
            "80/80 [==============================] - 75s 938ms/step - loss: 0.0104 - val_loss: 0.0237\n",
            "Epoch 8/50\n",
            "80/80 [==============================] - 75s 938ms/step - loss: 0.0084 - val_loss: 0.0161\n",
            "Epoch 9/50\n",
            "80/80 [==============================] - 80s 1s/step - loss: 0.0058 - val_loss: 0.0121\n",
            "Epoch 10/50\n",
            "80/80 [==============================] - 74s 930ms/step - loss: 0.0048 - val_loss: 0.0106\n",
            "Epoch 11/50\n",
            "80/80 [==============================] - 74s 930ms/step - loss: 0.0091 - val_loss: 0.0309\n",
            "Epoch 12/50\n",
            "80/80 [==============================] - 74s 929ms/step - loss: 0.0104 - val_loss: 0.0177\n",
            "Epoch 13/50\n",
            "80/80 [==============================] - 74s 933ms/step - loss: 0.0057 - val_loss: 0.0106\n",
            "Epoch 14/50\n",
            "80/80 [==============================] - 75s 937ms/step - loss: 0.0049 - val_loss: 0.0097\n",
            "Epoch 15/50\n",
            "80/80 [==============================] - 74s 929ms/step - loss: 0.0029 - val_loss: 0.0054\n",
            "Epoch 16/50\n",
            "80/80 [==============================] - 74s 928ms/step - loss: 0.0018 - val_loss: 0.0042\n",
            "Epoch 17/50\n",
            "80/80 [==============================] - 74s 931ms/step - loss: 0.0021 - val_loss: 0.0128\n",
            "Epoch 18/50\n",
            "80/80 [==============================] - 74s 929ms/step - loss: 0.0017 - val_loss: 0.0029\n",
            "Epoch 19/50\n",
            "80/80 [==============================] - 74s 932ms/step - loss: 9.9310e-04 - val_loss: 0.0029\n",
            "Epoch 20/50\n",
            "80/80 [==============================] - 74s 929ms/step - loss: 9.1470e-04 - val_loss: 0.0022\n",
            "Epoch 21/50\n",
            "80/80 [==============================] - 74s 930ms/step - loss: 7.9725e-04 - val_loss: 0.0018\n",
            "Epoch 22/50\n",
            "80/80 [==============================] - 74s 929ms/step - loss: 0.0010 - val_loss: 0.0016\n",
            "Epoch 23/50\n",
            "80/80 [==============================] - 74s 929ms/step - loss: 5.9705e-04 - val_loss: 0.0016\n",
            "Epoch 24/50\n",
            "80/80 [==============================] - 74s 932ms/step - loss: 9.3666e-04 - val_loss: 0.0018\n",
            "Epoch 25/50\n",
            "80/80 [==============================] - 75s 943ms/step - loss: 6.2091e-04 - val_loss: 0.0013\n",
            "Epoch 26/50\n",
            "80/80 [==============================] - 75s 933ms/step - loss: 4.8603e-04 - val_loss: 0.0012\n",
            "Epoch 27/50\n",
            "80/80 [==============================] - 76s 953ms/step - loss: 5.7222e-04 - val_loss: 8.3142e-04\n",
            "Epoch 28/50\n",
            "80/80 [==============================] - 81s 1s/step - loss: 3.3910e-04 - val_loss: 7.4327e-04\n",
            "Epoch 29/50\n",
            "80/80 [==============================] - 75s 938ms/step - loss: 4.0668e-04 - val_loss: 6.6131e-04\n",
            "Epoch 30/50\n",
            "80/80 [==============================] - 74s 933ms/step - loss: 2.4815e-04 - val_loss: 4.8228e-04\n",
            "Epoch 31/50\n",
            "80/80 [==============================] - 74s 930ms/step - loss: 0.0015 - val_loss: 8.8123e-04\n",
            "Epoch 32/50\n",
            "80/80 [==============================] - 74s 930ms/step - loss: 2.9782e-04 - val_loss: 6.7922e-04\n",
            "Epoch 33/50\n",
            "80/80 [==============================] - 74s 929ms/step - loss: 2.9649e-04 - val_loss: 4.1187e-04\n",
            "Epoch 34/50\n",
            "80/80 [==============================] - 74s 931ms/step - loss: 1.7175e-04 - val_loss: 4.0650e-04\n",
            "Epoch 35/50\n",
            "80/80 [==============================] - 74s 930ms/step - loss: 1.8238e-04 - val_loss: 7.2282e-04\n",
            "Epoch 36/50\n",
            "80/80 [==============================] - 81s 1s/step - loss: 1.5192e-04 - val_loss: 1.9504e-04\n",
            "Epoch 37/50\n",
            "80/80 [==============================] - 75s 936ms/step - loss: 6.9937e-04 - val_loss: 0.0029\n",
            "Epoch 38/50\n",
            "80/80 [==============================] - 75s 935ms/step - loss: 3.5375e-04 - val_loss: 2.3575e-04\n",
            "Epoch 39/50\n",
            "80/80 [==============================] - 74s 930ms/step - loss: 1.1005e-04 - val_loss: 2.4747e-04\n",
            "Epoch 40/50\n",
            "80/80 [==============================] - 74s 929ms/step - loss: 9.3369e-05 - val_loss: 1.7123e-04\n",
            "Epoch 41/50\n",
            "80/80 [==============================] - 75s 931ms/step - loss: 7.7548e-05 - val_loss: 1.6135e-04\n",
            "Epoch 42/50\n",
            "80/80 [==============================] - 80s 999ms/step - loss: 7.5008e-05 - val_loss: 1.6238e-04\n",
            "Epoch 43/50\n",
            "80/80 [==============================] - 75s 943ms/step - loss: 7.0672e-05 - val_loss: 1.7890e-04\n",
            "Epoch 44/50\n",
            "80/80 [==============================] - 75s 935ms/step - loss: 9.3117e-04 - val_loss: 2.2244e-04\n",
            "Epoch 45/50\n",
            "80/80 [==============================] - 75s 931ms/step - loss: 1.0708e-04 - val_loss: 1.6771e-04\n",
            "Epoch 46/50\n",
            "80/80 [==============================] - 75s 940ms/step - loss: 8.6035e-05 - val_loss: 1.4718e-04\n",
            "Epoch 47/50\n",
            "80/80 [==============================] - 76s 954ms/step - loss: 7.4317e-05 - val_loss: 1.4668e-04\n",
            "Epoch 48/50\n",
            "80/80 [==============================] - 76s 952ms/step - loss: 6.7429e-05 - val_loss: 1.3487e-04\n",
            "Epoch 49/50\n",
            "80/80 [==============================] - 75s 944ms/step - loss: 7.2572e-05 - val_loss: 1.6209e-04\n",
            "Epoch 50/50\n",
            "80/80 [==============================] - 75s 938ms/step - loss: 6.6165e-05 - val_loss: 1.5901e-04\n"
          ]
        },
        {
          "output_type": "execute_result",
          "data": {
            "text/plain": [
              "<keras.src.callbacks.History at 0x78921c52f8e0>"
            ]
          },
          "metadata": {},
          "execution_count": 20
        }
      ]
    },
    {
      "cell_type": "code",
      "source": [
        "# Evaluate the model on the test data\n",
        "loss = model.evaluate(X_test, y_test)\n",
        "\n",
        "# Print the test loss\n",
        "print(\"Test Loss:\", loss)\n"
      ],
      "metadata": {
        "colab": {
          "base_uri": "https://localhost:8080/"
        },
        "id": "_H__MYnkvADD",
        "outputId": "24d02509-c648-40c0-b7a3-1d048e125606"
      },
      "execution_count": 28,
      "outputs": [
        {
          "output_type": "stream",
          "name": "stdout",
          "text": [
            "686/686 [==============================] - 31s 45ms/step - loss: 1.5901e-04\n",
            "Test Loss: 0.00015900854486972094\n"
          ]
        }
      ]
    },
    {
      "cell_type": "code",
      "execution_count": 29,
      "metadata": {
        "id": "gHC_12sE4Mce",
        "colab": {
          "base_uri": "https://localhost:8080/"
        },
        "outputId": "8ed85b48-67ed-4bb5-e074-9082584052d4"
      },
      "outputs": [
        {
          "output_type": "stream",
          "name": "stdout",
          "text": [
            "1276/1276 [==============================] - 41s 32ms/step\n",
            "686/686 [==============================] - 22s 33ms/step\n"
          ]
        }
      ],
      "source": [
        "# Make predictions on the training and test data\n",
        "train_predict = model.predict(X_train)\n",
        "test_predict = model.predict(X_test)"
      ]
    },
    {
      "cell_type": "code",
      "execution_count": 30,
      "metadata": {
        "id": "b9034HSsHttm",
        "colab": {
          "base_uri": "https://localhost:8080/"
        },
        "outputId": "35c584fb-21bd-4b9c-d028-a284949d7d38"
      },
      "outputs": [
        {
          "output_type": "stream",
          "name": "stdout",
          "text": [
            "[[0.09640444]\n",
            " [0.14564207]\n",
            " [0.00463577]\n",
            " ...\n",
            " [0.0478787 ]\n",
            " [0.06745683]\n",
            " [0.10213079]]\n"
          ]
        }
      ],
      "source": [
        "print(train_predict)"
      ]
    },
    {
      "cell_type": "code",
      "source": [
        "# Inverse transform the predicted values to the original scale\n",
        "train_predict = scaler.inverse_transform(train_predict)\n",
        "test_predict = scaler.inverse_transform(test_predict)"
      ],
      "metadata": {
        "id": "tifh50AwvKcz"
      },
      "execution_count": 31,
      "outputs": []
    },
    {
      "cell_type": "code",
      "source": [
        "import math\n",
        "from sklearn.metrics import mean_squared_error\n",
        "\n",
        "# Calculate RMSE for the training data\n",
        "train_rmse = math.sqrt(mean_squared_error(y_train, train_predict))\n",
        "\n",
        "# Print the RMSE for the training data\n",
        "print(\"RMSE for Training Data:\", train_rmse)"
      ],
      "metadata": {
        "id": "3KZrSXxMvWE5",
        "colab": {
          "base_uri": "https://localhost:8080/"
        },
        "outputId": "0a41659f-5dd7-49e8-a7e7-cad925965297"
      },
      "execution_count": 32,
      "outputs": [
        {
          "output_type": "stream",
          "name": "stdout",
          "text": [
            "RMSE for Training Data: 146.6040121074899\n"
          ]
        }
      ]
    },
    {
      "cell_type": "code",
      "execution_count": 33,
      "metadata": {
        "id": "HJOR0FrX4Vnb",
        "colab": {
          "base_uri": "https://localhost:8080/"
        },
        "outputId": "b5bc55a1-78ea-4a35-c79e-0db9a0246ae3"
      },
      "outputs": [
        {
          "output_type": "stream",
          "name": "stdout",
          "text": [
            "RMSE for Test Data: 215.1603783181625\n"
          ]
        }
      ],
      "source": [
        "# Calculate RMSE for the test data\n",
        "test_rmse = math.sqrt(mean_squared_error(y_test, test_predict))\n",
        "\n",
        "# Print the RMSE for the test data\n",
        "print(\"RMSE for Test Data:\", test_rmse)"
      ]
    },
    {
      "cell_type": "code",
      "source": [
        "import matplotlib.pyplot as plt\n",
        "\n",
        "# Initialize arrays for plotting\n",
        "# shift train predictions for plotting\n",
        "trainPredictPlot = numpy.empty_like(df_scaled)\n",
        "trainPredictPlot[:, :] = np.nan\n",
        "trainPredictPlot[time_step:len(train_predict) + time_step, :] = train_predict\n",
        "\n",
        "# shift test predictions for plotting\n",
        "testPredictPlot = numpy.empty_like(df_scaled)\n",
        "testPredictPlot[:, :] = numpy.nan\n",
        "testPredictPlot[len(train_predict) + (time_step * 2) + 1:len(df_scaled) - 1, :] = test_predict\n",
        "\n",
        "# Plot baseline and predictions\n",
        "plt.figure(figsize=(10, 6))\n",
        "plt.plot(scaler.inverse_transform(df_scaled), label='Original Data')  # Original data\n",
        "plt.plot(trainPredictPlot, label='Training Predictions')  # Training predictions\n",
        "plt.plot(testPredictPlot, label='Test Predictions')  # Test predictions\n",
        "plt.xlabel('Time')\n",
        "plt.ylabel('Stock Price')\n",
        "plt.title('Original Data vs Predictions')\n",
        "plt.legend()\n",
        "plt.show()\n"
      ],
      "metadata": {
        "id": "zL_pwjM5v_uF",
        "colab": {
          "base_uri": "https://localhost:8080/",
          "height": 564
        },
        "outputId": "af54ee76-945a-414c-cbd3-731e25fcd7de"
      },
      "execution_count": 34,
      "outputs": [
        {
          "output_type": "display_data",
          "data": {
            "text/plain": [
              "<Figure size 1000x600 with 1 Axes>"
            ],
            "image/png": "[encoded data removed]"
          },
          "metadata": {}
        }
      ]
    }
  ],
  "metadata": {
    "accelerator": "GPU",
    "colab": {
      "provenance": [],
      "gpuType": "T4"
    },
    "kernelspec": {
      "display_name": "Python 3",
      "name": "python3"
    },
    "language_info": {
      "name": "python"
    }
  },
  "nbformat": 4,
  "nbformat_minor": 0
}